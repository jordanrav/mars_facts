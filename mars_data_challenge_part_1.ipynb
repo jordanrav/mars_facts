{
 "cells": [
  {
   "cell_type": "code",
   "execution_count": 1,
   "id": "3af6a90a",
   "metadata": {},
   "outputs": [],
   "source": [
    "from splinter import Browser\n",
    "from bs4 import BeautifulSoup as soup\n",
    "from webdriver_manager.chrome import ChromeDriverManager\n",
    "\n",
    "executable_path = {'executable_path': ChromeDriverManager().install()}\n",
    "browser = Browser('chrome', **executable_path,headless= True)"
   ]
  },
  {
   "cell_type": "code",
   "execution_count": 2,
   "id": "d80f636b",
   "metadata": {},
   "outputs": [],
   "source": [
    "url = 'https://redplanetscience.com'\n",
    "browser.visit(url)"
   ]
  },
  {
   "cell_type": "code",
   "execution_count": 3,
   "id": "eaff3ee0",
   "metadata": {},
   "outputs": [],
   "source": [
    "html = browser.html\n",
    "news_soup = soup(html,'html.parser')\n",
    "\n",
    "article_list = []\n",
    "\n",
    "titles =[]\n",
    "\n",
    "previews=[]\n",
    "\n",
    "title = news_soup.find_all('div',class_='content_title')\n",
    "preview = news_soup.find_all('div',class_='article_teaser_body')\n",
    "\n",
    "for x in title:\n",
    "    titles.append(x.text)\n",
    "for x in preview:\n",
    "    previews.append(x.text)\n",
    "\n",
    "\n",
    "\n"
   ]
  },
  {
   "cell_type": "code",
   "execution_count": 4,
   "id": "b513d7a9",
   "metadata": {},
   "outputs": [],
   "source": [
    "for x in range(0,len(title)):\n",
    "    article_list.append({'title':titles[x],'preview':previews[x]})\n",
    "      "
   ]
  },
  {
   "cell_type": "code",
   "execution_count": 5,
   "id": "dcc1d1c2",
   "metadata": {},
   "outputs": [
    {
     "name": "stdout",
     "output_type": "stream",
     "text": [
      "From JPL's Mailroom to Mars and Beyond\n",
      "AI Is Helping Scientists Discover Fresh Craters on Mars\n",
      "Mars Helicopter Attached to NASA's Perseverance Rover\n",
      "NASA's Perseverance Rover Will Look at Mars Through These 'Eyes'\n",
      "Meet the People Behind NASA's Perseverance Rover\n",
      "Sensors on Mars 2020 Spacecraft Answer Long-Distance Call From Earth\n",
      "NASA Prepares for Moon and Mars With New Addition to Its Deep Space Network\n",
      "Media Get a Close-Up of NASA's Mars 2020 Rover\n",
      "NASA Administrator Statement on Moon to Mars Initiative, FY 2021 Budget\n",
      "How NASA's Perseverance Mars Team Adjusted to Work in the Time of Coronavirus \n",
      "NASA's Perseverance Rover Mission Getting in Shape for Launch\n",
      "NASA-JPL Names 'Rolling Stones Rock' on Mars\n",
      "Newfound Martian Aurora Actually the Most Common; Sheds Light on Mars' Changing Climate\n",
      "NASA, ULA Launch Mars 2020 Perseverance Rover Mission to Red Planet\n",
      "NASA's Perseverance Rover Attached to Atlas V Rocket\n"
     ]
    }
   ],
   "source": [
    "for y in titles:\n",
    "    print(y)"
   ]
  },
  {
   "cell_type": "code",
   "execution_count": 6,
   "id": "f7db3e78",
   "metadata": {},
   "outputs": [
    {
     "name": "stdout",
     "output_type": "stream",
     "text": [
      "Bill Allen has thrived as the mechanical systems design lead for three Mars rover missions, but he got his start as a teenager sorting letters for the NASA center.\n",
      "It's the first time machine learning has been used to find previously unknown craters on the Red Planet.\n",
      "The team also fueled the rover's sky crane to get ready for this summer's history-making launch.\n",
      "A pair of zoomable cameras will help scientists and rover drivers with high-resolution color images.\n",
      "These are the scientists and engineers who built NASA's next Mars rover and who will guide it to a safe landing in Jezero Crater. \n",
      "Instruments tailored to collect data during the descent of NASA's next rover through the Red Planet's atmosphere have been checked in flight.\n",
      "Robotic spacecraft will be able to communicate with the dish using radio waves and lasers.\n",
      "The clean room at NASA's Jet Propulsion Laboratory was open to the media to see NASA's next Mars explorer before it leaves for Florida in preparation for a summertime launch.\n",
      "Jim Bridenstine addresses NASA's ambitious plans for the coming years, including Mars Sample Return.\n",
      "Like much of the rest of the world, the Mars rover team is pushing forward with its mission-critical work while putting the health and safety of their colleagues and community first.\n",
      "Stacking spacecraft components on top of each other is one of the final assembly steps before a mission launches to the Red Planet. \n",
      "NASA's Mars InSight mission honored one of the biggest bands of all time at Pasadena concert.\n",
      "A type of Martian aurora first identified by NASA’s MAVEN spacecraft in 2016 is actually the most common form of aurora occurring on the Red Planet, according to new results from the mission.\n",
      "The agency's Mars 2020 mission is on its way. It will land at Jezero Crater in about seven months, on Feb. 18, 2021. \n",
      "Ready for its launch later in the month, the Mars-bound rover will touch terra firma no more.\n"
     ]
    }
   ],
   "source": [
    "for y in previews:\n",
    "    print(y)"
   ]
  },
  {
   "cell_type": "code",
   "execution_count": 7,
   "id": "f7de58dc",
   "metadata": {},
   "outputs": [
    {
     "name": "stdout",
     "output_type": "stream",
     "text": [
      "{'title': \"From JPL's Mailroom to Mars and Beyond\", 'preview': 'Bill Allen has thrived as the mechanical systems design lead for three Mars rover missions, but he got his start as a teenager sorting letters for the NASA center.'}\n",
      "{'title': 'AI Is Helping Scientists Discover Fresh Craters on Mars', 'preview': \"It's the first time machine learning has been used to find previously unknown craters on the Red Planet.\"}\n",
      "{'title': \"Mars Helicopter Attached to NASA's Perseverance Rover\", 'preview': \"The team also fueled the rover's sky crane to get ready for this summer's history-making launch.\"}\n",
      "{'title': \"NASA's Perseverance Rover Will Look at Mars Through These 'Eyes'\", 'preview': 'A pair of zoomable cameras will help scientists and rover drivers with high-resolution color images.'}\n",
      "{'title': \"Meet the People Behind NASA's Perseverance Rover\", 'preview': \"These are the scientists and engineers who built NASA's next Mars rover and who will guide it to a safe landing in Jezero Crater. \"}\n",
      "{'title': 'Sensors on Mars 2020 Spacecraft Answer Long-Distance Call From Earth', 'preview': \"Instruments tailored to collect data during the descent of NASA's next rover through the Red Planet's atmosphere have been checked in flight.\"}\n",
      "{'title': 'NASA Prepares for Moon and Mars With New Addition to Its Deep Space Network', 'preview': 'Robotic spacecraft will be able to communicate with the dish using radio waves and lasers.'}\n",
      "{'title': \"Media Get a Close-Up of NASA's Mars 2020 Rover\", 'preview': \"The clean room at NASA's Jet Propulsion Laboratory was open to the media to see NASA's next Mars explorer before it leaves for Florida in preparation for a summertime launch.\"}\n",
      "{'title': 'NASA Administrator Statement on Moon to Mars Initiative, FY 2021 Budget', 'preview': \"Jim Bridenstine addresses NASA's ambitious plans for the coming years, including Mars Sample Return.\"}\n",
      "{'title': \"How NASA's Perseverance Mars Team Adjusted to Work in the Time of Coronavirus \", 'preview': 'Like much of the rest of the world, the Mars rover team is pushing forward with its mission-critical work while putting the health and safety of their colleagues and community first.'}\n",
      "{'title': \"NASA's Perseverance Rover Mission Getting in Shape for Launch\", 'preview': 'Stacking spacecraft components on top of each other is one of the final assembly steps before a mission launches to the Red Planet. '}\n",
      "{'title': \"NASA-JPL Names 'Rolling Stones Rock' on Mars\", 'preview': \"NASA's Mars InSight mission honored one of the biggest bands of all time at Pasadena concert.\"}\n",
      "{'title': \"Newfound Martian Aurora Actually the Most Common; Sheds Light on Mars' Changing Climate\", 'preview': 'A type of Martian aurora first identified by NASA’s MAVEN spacecraft in 2016 is actually the most common form of aurora occurring on the Red Planet, according to new results from the mission.'}\n",
      "{'title': 'NASA, ULA Launch Mars 2020 Perseverance Rover Mission to Red Planet', 'preview': \"The agency's Mars 2020 mission is on its way. It will land at Jezero Crater in about seven months, on Feb. 18, 2021. \"}\n",
      "{'title': \"NASA's Perseverance Rover Attached to Atlas V Rocket\", 'preview': 'Ready for its launch later in the month, the Mars-bound rover will touch terra firma no more.'}\n"
     ]
    }
   ],
   "source": [
    "for article in article_list:\n",
    "    print(article)"
   ]
  },
  {
   "cell_type": "code",
   "execution_count": 8,
   "id": "b3d4878a",
   "metadata": {},
   "outputs": [],
   "source": [
    "browser.quit()"
   ]
  },
  {
   "cell_type": "code",
   "execution_count": null,
   "id": "c0e39dd6",
   "metadata": {},
   "outputs": [],
   "source": []
  }
 ],
 "metadata": {
  "kernelspec": {
   "display_name": "PythonData",
   "language": "python",
   "name": "pythondata"
  },
  "language_info": {
   "codemirror_mode": {
    "name": "ipython",
    "version": 3
   },
   "file_extension": ".py",
   "mimetype": "text/x-python",
   "name": "python",
   "nbconvert_exporter": "python",
   "pygments_lexer": "ipython3",
   "version": "3.7.13"
  }
 },
 "nbformat": 4,
 "nbformat_minor": 5
}
